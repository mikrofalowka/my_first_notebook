{
 "cells": [
  {
   "cell_type": "markdown",
   "id": "30793a6a-40fb-4b4f-8472-1ddab89b32fa",
   "metadata": {},
   "source": [
    "# My first notebook\n",
    "This is my first notebook. This text is made with Markdown\n"
   ]
  },
  {
   "cell_type": "markdown",
   "id": "ec277477-fea1-479d-b240-29b6824554ff",
   "metadata": {},
   "source": [
    "# eldokcza\n",
    "\n",
    "asdsad"
   ]
  },
  {
   "cell_type": "code",
   "execution_count": 10,
   "id": "8438151f-7bf0-48e4-b583-c37775301c26",
   "metadata": {},
   "outputs": [
    {
     "name": "stdout",
     "output_type": "stream",
     "text": [
      "This is another cell, this text was printed by Python\n"
     ]
    }
   ],
   "source": [
    "print(\"This is another cell, this text was printed by Python\")\n"
   ]
  },
  {
   "cell_type": "markdown",
   "id": "74b5332f-bb35-40d3-93b0-8c2139b1d0f7",
   "metadata": {},
   "source": [
    "# Pythonowskie funkcje\n",
    "Uzywamy def do definiowania funkcji"
   ]
  },
  {
   "cell_type": "code",
   "execution_count": 12,
   "id": "2ac4b8be-35de-48b5-9a34-badb198a051f",
   "metadata": {},
   "outputs": [],
   "source": [
    "def add(a,b):\n",
    "    return a+b"
   ]
  },
  {
   "cell_type": "markdown",
   "id": "674e7e9c-b7ad-4927-8905-bc69fcec116d",
   "metadata": {},
   "source": [
    "wywolujemy funkcje wpisujac np.\n",
    "add(3,5)"
   ]
  },
  {
   "cell_type": "code",
   "execution_count": 13,
   "id": "4f53d842-6c3c-4fcb-9533-fba6ac4858d7",
   "metadata": {},
   "outputs": [
    {
     "data": {
      "text/plain": [
       "5"
      ]
     },
     "execution_count": 13,
     "metadata": {},
     "output_type": "execute_result"
    }
   ],
   "source": [
    "add(2,3)"
   ]
  }
 ],
 "metadata": {
  "kernelspec": {
   "display_name": "Python 3 (ipykernel)",
   "language": "python",
   "name": "python3"
  },
  "language_info": {
   "codemirror_mode": {
    "name": "ipython",
    "version": 3
   },
   "file_extension": ".py",
   "mimetype": "text/x-python",
   "name": "python",
   "nbconvert_exporter": "python",
   "pygments_lexer": "ipython3",
   "version": "3.12.3"
  }
 },
 "nbformat": 4,
 "nbformat_minor": 5
}
